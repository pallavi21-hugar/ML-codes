{
 "cells": [
  {
   "cell_type": "code",
   "execution_count": 1,
   "id": "f6e9d039-cfd2-4b65-a679-0e8722ced364",
   "metadata": {},
   "outputs": [
    {
     "name": "stdin",
     "output_type": "stream",
     "text": [
      "enter the size of the house in sqft: 20000\n",
      "enter the number of bedrooms: 4\n"
     ]
    },
    {
     "name": "stdout",
     "output_type": "stream",
     "text": [
      "predicted price for a house with size20000.0 sqft and4 bedrooms: Rs.-2099156.63\n"
     ]
    }
   ],
   "source": [
    "import numpy as np\n",
    "from sklearn.linear_model import LinearRegression\n",
    "x=np.array([[1000,2],[1500,3],[1200,2],[1800,4],[900,2]])\n",
    "y=np.array([300000,400000,350000,280000,450000])\n",
    "model=LinearRegression()\n",
    "model.fit(x,y)\n",
    "size=float(input(\"enter the size of the house in sqft:\"))\n",
    "bedrooms=int(input(\"enter the number of bedrooms:\"))\n",
    "new_data=np.array([[size,bedrooms]])\n",
    "predicted_price=model.predict(new_data)\n",
    "print(\"predicted price for a house with size{} sqft and{} bedrooms: Rs.{:.2f}\".format(size,bedrooms,predicted_price[0]))\n",
    "            "
   ]
  },
  {
   "cell_type": "code",
   "execution_count": null,
   "id": "39ae4383-fb57-4ecf-81a2-4b37a010196c",
   "metadata": {},
   "outputs": [],
   "source": []
  }
 ],
 "metadata": {
  "kernelspec": {
   "display_name": "Python [conda env:base] *",
   "language": "python",
   "name": "conda-base-py"
  },
  "language_info": {
   "codemirror_mode": {
    "name": "ipython",
    "version": 3
   },
   "file_extension": ".py",
   "mimetype": "text/x-python",
   "name": "python",
   "nbconvert_exporter": "python",
   "pygments_lexer": "ipython3",
   "version": "3.12.7"
  }
 },
 "nbformat": 4,
 "nbformat_minor": 5
}
