{
 "cells": [
  {
   "cell_type": "code",
   "execution_count": 1,
   "id": "c23a2924-8d30-491e-bcf9-153bb4ba38d8",
   "metadata": {},
   "outputs": [
    {
     "name": "stdout",
     "output_type": "stream",
     "text": [
      "Accuracy on the test set: 1.00\n"
     ]
    },
    {
     "name": "stdin",
     "output_type": "stream",
     "text": [
      "Enter Exam score 1:  45\n",
      "Enter Exam Score 2:  50\n"
     ]
    },
    {
     "name": "stdout",
     "output_type": "stream",
     "text": [
      "Based on the exam scores provided,the student is predicted to fail.\n"
     ]
    }
   ],
   "source": [
    "import numpy as np\n",
    "from sklearn.model_selection import train_test_split\n",
    "from sklearn.neighbors import KNeighborsClassifier\n",
    "from sklearn.metrics import accuracy_score\n",
    "X = np.array([[80,75],[95,90],[60,50],[45,30],[30,40],[85,95],[70,60],[50,55],[40,45],[60,70]])\n",
    "y = np.array([1,1,0,0,0,1,1,0,0,1])\n",
    "X_train, X_test, y_train, y_test = train_test_split(X,y,test_size=0.2, random_state=42)\n",
    "knn = KNeighborsClassifier(n_neighbors=3)\n",
    "knn.fit(X_train, y_train)\n",
    "y_pred = knn.predict(X_test)\n",
    "accuracy = accuracy_score(y_test,y_pred)\n",
    "print(\"Accuracy on the test set: {:.2f}\".format(accuracy))\n",
    "exam_score1 = float(input(\"Enter Exam score 1: \"))\n",
    "exam_score2 = float(input(\"Enter Exam Score 2: \"))\n",
    "user_input = np.array([[exam_score1, exam_score2]])\n",
    "predicted_outcome = knn.predict(user_input)\n",
    "if predicted_outcome[0] == 1:\n",
    "    print(\"Based on the exam scores provided, the student is predicted  to pass.\")\n",
    "else:\n",
    "    print(\"Based on the exam scores provided,the student is predicted to fail.\")"
   ]
  },
  {
   "cell_type": "code",
   "execution_count": null,
   "id": "0fee71e3-e763-41c7-accf-083196e4f9ac",
   "metadata": {},
   "outputs": [],
   "source": []
  }
 ],
 "metadata": {
  "kernelspec": {
   "display_name": "Python [conda env:base] *",
   "language": "python",
   "name": "conda-base-py"
  },
  "language_info": {
   "codemirror_mode": {
    "name": "ipython",
    "version": 3
   },
   "file_extension": ".py",
   "mimetype": "text/x-python",
   "name": "python",
   "nbconvert_exporter": "python",
   "pygments_lexer": "ipython3",
   "version": "3.12.7"
  }
 },
 "nbformat": 4,
 "nbformat_minor": 5
}
