{
 "cells": [
  {
   "cell_type": "code",
   "execution_count": 1,
   "id": "e443882c-abd5-466f-bf2c-46f5c17cf34f",
   "metadata": {},
   "outputs": [
    {
     "name": "stdout",
     "output_type": "stream",
     "text": [
      "Data after handling missing values:\n",
      "    Age  Gender   Income\n",
      "0  25.0  female  50000.0\n",
      "1  30.0    male  60000.0\n",
      "2  29.5    male  45000.0\n",
      "3  28.0  female  56250.0\n",
      "4  35.0    male  70000.0\n",
      "\n",
      " Data after categorical encoding:\n",
      "   Gender_female  Gender_male\n",
      "0            1.0          0.0\n",
      "1            0.0          1.0\n",
      "2            0.0          1.0\n",
      "3            1.0          0.0\n",
      "4            0.0          1.0\n",
      "\n",
      " Data after feature scaling:\n",
      "   Scaled Age  Scaled Income\n",
      "0   -1.382164      -0.727778\n",
      "1    0.153574       0.436667\n",
      "2    0.000000      -1.310001\n",
      "3   -0.460721       0.000000\n",
      "4    1.689312       1.601112\n"
     ]
    }
   ],
   "source": [
    "import pandas as pd\n",
    "from sklearn.impute import SimpleImputer\n",
    "from sklearn.preprocessing import OneHotEncoder,StandardScaler\n",
    "data={\n",
    "    'Age':[25,30,None,28,35],\n",
    "    'Gender':['female','male','male','female','male'],\n",
    "    'Income':[50000,60000,45000,None,70000]\n",
    "}\n",
    "df=pd.DataFrame(data)\n",
    "imputer=SimpleImputer(strategy='mean')\n",
    "df[['Age','Income']]=imputer.fit_transform(df[['Age','Income']])\n",
    "print(\"Data after handling missing values:\")\n",
    "print(df)\n",
    "encoder=OneHotEncoder()\n",
    "encoded_data=encoder.fit_transform(df[['Gender']]).toarray()\n",
    "encoded_df=pd.DataFrame(encoded_data, columns=encoder.get_feature_names_out(['Gender']))\n",
    "print(\"\\n Data after categorical encoding:\")\n",
    "print(encoded_df)\n",
    "scaler=StandardScaler()\n",
    "scaled_data=scaler.fit_transform(df[['Age','Income']])\n",
    "scaled_df=pd.DataFrame(scaled_data,columns=['Scaled Age','Scaled Income'])\n",
    "print(\"\\n Data after feature scaling:\")\n",
    "print(scaled_df)"
   ]
  },
  {
   "cell_type": "code",
   "execution_count": null,
   "id": "76c1e1f1-9fd3-49e0-bdcf-77efa9ec0840",
   "metadata": {},
   "outputs": [],
   "source": []
  }
 ],
 "metadata": {
  "kernelspec": {
   "display_name": "Python [conda env:base] *",
   "language": "python",
   "name": "conda-base-py"
  },
  "language_info": {
   "codemirror_mode": {
    "name": "ipython",
    "version": 3
   },
   "file_extension": ".py",
   "mimetype": "text/x-python",
   "name": "python",
   "nbconvert_exporter": "python",
   "pygments_lexer": "ipython3",
   "version": "3.12.7"
  }
 },
 "nbformat": 4,
 "nbformat_minor": 5
}
